{
 "cells": [
  {
   "cell_type": "code",
   "execution_count": 1,
   "id": "b48c2321",
   "metadata": {},
   "outputs": [],
   "source": [
    "from llm_agent.cell_inspectors import ExcelVariableAgent\n",
    "from llm_agent.programmer import ProgrammerAgent\n",
    "import logging\n",
    "logging.basicConfig(level=logging.INFO)"
   ]
  },
  {
   "cell_type": "code",
   "execution_count": 2,
   "id": "d756361a",
   "metadata": {},
   "outputs": [
    {
     "name": "stderr",
     "output_type": "stream",
     "text": [
      "INFO:db.database:Connecting to database: excel_agents\n",
      "INFO:db.database:Successfully connected to MongoDB\n",
      "INFO:db.excel_manager:Deleted spreadsheet 'simple_beam' (ID: 683cd7e73f407fa7f60bd958) with 55 cells\n",
      "INFO:db.excel_manager:Parsing spreadsheet: examples/simple_beam/simple_beam.xlsx\n",
      "INFO:parsers.excel_parser:Parsing Excel file: examples/simple_beam/simple_beam.xlsx\n",
      "INFO:parsers.excel_parser:Building alias mapping from defined names\n",
      "INFO:parsers.excel_parser:Found 3 cell aliases across 1 sheets\n",
      "INFO:parsers.excel_parser:Processing sheet: calcs\n",
      "INFO:parsers.excel_parser:Sheet calcs dimensions: 27 rows x 12 columns\n",
      "INFO:parsers.excel_parser:Expanded options: [{'cell_ref': 'J24', 'sheet_name': 'calcs', 'workbook_name': 'simple_beam.xlsx'}, {'cell_ref': 'J25', 'sheet_name': 'calcs', 'workbook_name': 'simple_beam.xlsx'}, {'cell_ref': 'J26', 'sheet_name': 'calcs', 'workbook_name': 'simple_beam.xlsx'}, {'cell_ref': 'J27', 'sheet_name': 'calcs', 'workbook_name': 'simple_beam.xlsx'}]\n",
      "INFO:parsers.excel_parser:Expanded options: [{'cell_ref': 'J24', 'sheet_name': 'calcs', 'workbook_name': 'simple_beam.xlsx'}, {'cell_ref': 'J25', 'sheet_name': 'calcs', 'workbook_name': 'simple_beam.xlsx'}, {'cell_ref': 'J26', 'sheet_name': 'calcs', 'workbook_name': 'simple_beam.xlsx'}, {'cell_ref': 'J27', 'sheet_name': 'calcs', 'workbook_name': 'simple_beam.xlsx'}]\n",
      "INFO:parsers.excel_parser:Processed 55 non-empty cells in sheet calcs\n",
      "INFO:parsers.excel_parser:Processing sheet: sections\n",
      "INFO:parsers.excel_parser:Sheet sections dimensions: 1 rows x 1 columns\n",
      "INFO:parsers.excel_parser:Processed 0 non-empty cells in sheet sections\n",
      "INFO:parsers.excel_parser:Total cells processed: 55 from 2 sheets\n",
      "INFO:parsers.excel_parser:Processing cell dependencies...\n",
      "INFO:parsers.excel_parser:Found 8 cells with formulas\n",
      "INFO:parsers.excel_parser:Cell dependency processing complete\n",
      "INFO:parsers.excel_parser:Completed parsing: examples/simple_beam/simple_beam.xlsx\n",
      "INFO:db.excel_manager:Parsed spreadsheet: simple_beam\n",
      "INFO:db.excel_manager:Number of cells: 55\n",
      "INFO:db.excel_manager:Sheets: calcs, sections\n",
      "INFO:db.excel_manager:Parsing spreadsheet: examples/simple_beam/simple_beam.xlsx\n",
      "INFO:parsers.excel_parser:Parsing Excel file: examples/simple_beam/simple_beam.xlsx\n",
      "INFO:parsers.excel_parser:Found existing spreadsheet: simple_beam\n",
      "INFO:parsers.excel_parser:Building alias mapping from defined names\n",
      "INFO:parsers.excel_parser:Found 3 cell aliases across 1 sheets\n",
      "INFO:parsers.excel_parser:Processing sheet: calcs\n",
      "INFO:parsers.excel_parser:Sheet calcs dimensions: 27 rows x 12 columns\n",
      "INFO:parsers.excel_parser:Expanded options: [{'cell_ref': 'J24', 'sheet_name': 'calcs', 'workbook_name': 'simple_beam.xlsx'}, {'cell_ref': 'J25', 'sheet_name': 'calcs', 'workbook_name': 'simple_beam.xlsx'}, {'cell_ref': 'J26', 'sheet_name': 'calcs', 'workbook_name': 'simple_beam.xlsx'}, {'cell_ref': 'J27', 'sheet_name': 'calcs', 'workbook_name': 'simple_beam.xlsx'}]\n",
      "INFO:parsers.excel_parser:Expanded options: [{'cell_ref': 'J24', 'sheet_name': 'calcs', 'workbook_name': 'simple_beam.xlsx'}, {'cell_ref': 'J25', 'sheet_name': 'calcs', 'workbook_name': 'simple_beam.xlsx'}, {'cell_ref': 'J26', 'sheet_name': 'calcs', 'workbook_name': 'simple_beam.xlsx'}, {'cell_ref': 'J27', 'sheet_name': 'calcs', 'workbook_name': 'simple_beam.xlsx'}]\n",
      "INFO:parsers.excel_parser:Processed 55 non-empty cells in sheet calcs\n",
      "INFO:parsers.excel_parser:Processing sheet: sections\n",
      "INFO:parsers.excel_parser:Sheet sections dimensions: 1 rows x 1 columns\n",
      "INFO:parsers.excel_parser:Processed 0 non-empty cells in sheet sections\n",
      "INFO:parsers.excel_parser:Total cells processed: 55 from 2 sheets\n",
      "INFO:parsers.excel_parser:Processing cell dependencies...\n",
      "INFO:parsers.excel_parser:Found 8 cells with formulas\n",
      "INFO:parsers.excel_parser:Cell dependency processing complete\n",
      "INFO:parsers.excel_parser:Completed parsing: examples/simple_beam/simple_beam.xlsx\n",
      "INFO:db.excel_manager:Parsed spreadsheet: simple_beam\n",
      "INFO:db.excel_manager:Number of cells: 55\n",
      "INFO:db.excel_manager:Sheets: calcs, sections\n"
     ]
    }
   ],
   "source": [
    "spreadsheet_name = 'simple_beam'\n",
    "path = f\"examples/simple_beam/{spreadsheet_name}.xlsx\"\n",
    "\n",
    "variable_agent = ExcelVariableAgent(\n",
    "                 spread_sheet_path =path,\n",
    "                 system_prompt = None,\n",
    "                 openai_model = \"gpt-4.1-mini\",\n",
    "                 trace_with_langfuse = True)"
   ]
  },
  {
   "cell_type": "code",
   "execution_count": 3,
   "id": "fe4deb62",
   "metadata": {},
   "outputs": [
    {
     "data": {
      "text/plain": [
       "'/Users/omid/Desktop/Projects/excel_agent/examples/simple_beam'"
      ]
     },
     "execution_count": 3,
     "metadata": {},
     "output_type": "execute_result"
    }
   ],
   "source": [
    "variable_agent.project_dir"
   ]
  },
  {
   "cell_type": "code",
   "execution_count": 4,
   "id": "16b7cf7f",
   "metadata": {},
   "outputs": [
    {
     "name": "stdout",
     "output_type": "stream",
     "text": [
      "processing layer 0 with 18 cells\n",
      "processing layer 1 with 5 cells\n",
      "processing layer 2 with 2 cells\n",
      "processing layer 3 with 1 cells\n"
     ]
    }
   ],
   "source": [
    "await variable_agent.orchestrate_variable_extraction()"
   ]
  },
  {
   "cell_type": "code",
   "execution_count": 5,
   "id": "a2e0fb7a",
   "metadata": {},
   "outputs": [
    {
     "name": "stdout",
     "output_type": "stream",
     "text": [
      "calcs D3\n",
      "var name: beam_length_ft\n",
      "var desc: length of the beam in feet\n",
      "python code:\n",
      "`beam_length_ft = 20`\n",
      "----------------------------------------------------------------------------------------------------\n",
      "calcs D4\n",
      "var name: P_kip\n",
      "var desc: mid span point load in kips\n",
      "python code:\n",
      "`P_kip = 15`\n",
      "----------------------------------------------------------------------------------------------------\n",
      "calcs D5\n",
      "var name: area_load_q\n",
      "var desc: area load in psf\n",
      "python code:\n",
      "`area_load_q = 30`\n",
      "----------------------------------------------------------------------------------------------------\n",
      "calcs D6\n",
      "var name: trib_width_ft\n",
      "var desc: tributary width in feet\n",
      "python code:\n",
      "`trib_width_ft = 20`\n",
      "----------------------------------------------------------------------------------------------------\n",
      "calcs D7\n",
      "var name: beam_section\n",
      "var desc: The section type of the beam, which can be one of the finite set values: 'alpha', 'bravo', 'charlie', or 'delta'.\n",
      "python code:\n",
      "`beam_section = 'delta'  # Example value, can be 'alpha', 'bravo', 'charlie', or 'delta'`\n",
      "----------------------------------------------------------------------------------------------------\n",
      "calcs J24\n",
      "var name: alpha\n",
      "var desc: Constant value alpha from section database in sheet calcs\n",
      "python code:\n",
      "`alpha = 20`\n",
      "----------------------------------------------------------------------------------------------------\n",
      "calcs J25\n",
      "var name: bravo\n",
      "var desc: Constant value named bravo from the section database in the calcs sheet.\n",
      "python code:\n",
      "`'bravo'`\n",
      "----------------------------------------------------------------------------------------------------\n",
      "calcs J26\n",
      "var name: section_name_charlie\n",
      "var desc: Section name corresponding to the row with alpha, bravo, charlie, delta in the section database\n",
      "python code:\n",
      "`'charlie'`\n",
      "----------------------------------------------------------------------------------------------------\n",
      "calcs J27\n",
      "var name: section_name_delta\n",
      "var desc: Section name 'delta' from the section database in the calcs sheet\n",
      "python code:\n",
      "`'delta'`\n",
      "----------------------------------------------------------------------------------------------------\n",
      "calcs K24\n",
      "var name: alpha_M_kip_ft\n",
      "var desc: Moment M in kip.ft for section alpha from the section database\n",
      "python code:\n",
      "`alpha_M_kip_ft = 20`\n",
      "----------------------------------------------------------------------------------------------------\n",
      "calcs K25\n",
      "var name: bravo_M_kip_ft\n",
      "var desc: Moment M in kip.ft for section named bravo from the section database\n",
      "python code:\n",
      "`bravo_M_kip_ft = 50`\n",
      "----------------------------------------------------------------------------------------------------\n",
      "calcs K26\n",
      "var name: section_charlie_M_kip_ft\n",
      "var desc: Moment M in kip.ft for section charlie from the section database\n",
      "python code:\n",
      "`section_charlie_M_kip_ft = 100`\n",
      "----------------------------------------------------------------------------------------------------\n",
      "calcs K27\n",
      "var name: delta_M_kip_ft\n",
      "var desc: Moment M in kip-feet for section delta\n",
      "python code:\n",
      "`200`\n",
      "----------------------------------------------------------------------------------------------------\n",
      "calcs L24\n",
      "var name: section_alpha_V_kip\n",
      "var desc: Shear force V in kip for section alpha\n",
      "python code:\n",
      "`section_alpha_V_kip = 40`\n",
      "----------------------------------------------------------------------------------------------------\n",
      "calcs L25\n",
      "var name: V_bravo\n",
      "var desc: Shear force V in kip for section named bravo\n",
      "python code:\n",
      "`V_bravo = 60`\n",
      "----------------------------------------------------------------------------------------------------\n",
      "calcs L26\n",
      "var name: V_charlie\n",
      "var desc: Shear force V in kip for section charlie from the section database\n",
      "python code:\n",
      "`V_charlie = 80`\n",
      "----------------------------------------------------------------------------------------------------\n",
      "calcs L27\n",
      "var name: V_delta\n",
      "var desc: Shear force V for section delta in kip\n",
      "python code:\n",
      "`V_delta = 150`\n",
      "----------------------------------------------------------------------------------------------------\n",
      "calcs D15\n",
      "var name: max_P\n",
      "var desc: Maximum load P in the beam\n",
      "python code:\n",
      "`max_P = 100`\n",
      "----------------------------------------------------------------------------------------------------\n",
      "calcs E19\n",
      "var name: moment_M_kip_ft\n",
      "var desc: Moment at mid span in kip-feet\n",
      "python code:\n",
      "`moment_M_kip_ft = P_kip * beam_length_ft / 4 + (area_load_q * trib_width_ft / 1000) * beam_length_ft ** 2 / 8`\n",
      "----------------------------------------------------------------------------------------------------\n",
      "calcs E20\n",
      "var name: shear_V_kip\n",
      "var desc: Shear force V in kips\n",
      "python code:\n",
      "`shear_V_kip = P_kip*beam_length_ft/2 + area_load_q*trib_width_ft*beam_length_ft/2/1000`\n",
      "----------------------------------------------------------------------------------------------------\n",
      "calcs J9\n",
      "var name: moment_capacity_Mcap\n",
      "var desc: Moment capacity Mcap in kip.ft for the beam section specified in cell D7 in sheet calcs\n",
      "python code:\n",
      "`section_moment_capacity_dict = {\n",
      "    'alpha': alpha_M_kip_ft,\n",
      "    'bravo': bravo_M_kip_ft,\n",
      "    'charlie': section_charlie_M_kip_ft,\n",
      "    'delta': delta_M_kip_ft\n",
      "}\n",
      "moment_capacity_Mcap = section_moment_capacity_dict[beam_section]`\n",
      "----------------------------------------------------------------------------------------------------\n",
      "calcs J10\n",
      "var name: shear_capacity_Vcap\n",
      "var desc: Shear capacity Vcap in kip for the beam section specified in D7, looked up from the section database range J24:L27 in the calcs sheet.\n",
      "python code:\n",
      "`section_data = {\n",
      "    'alpha': {'M_kip_ft': 20, 'V_kip': 40},\n",
      "    'bravo': {'M_kip_ft': 50, 'V_kip': 60},\n",
      "    'charlie': {'M_kip_ft': 100, 'V_kip': 80},\n",
      "    'delta': {'M_kip_ft': 200, 'V_kip': 150}\n",
      "}\n",
      "\n",
      "beam_section = 'delta'  # Example value, can be 'alpha', 'bravo', 'charlie', or 'delta'\n",
      "shear_capacity_Vcap = section_data[beam_section]['V_kip']`\n",
      "----------------------------------------------------------------------------------------------------\n",
      "calcs D16\n",
      "var name: load_check_message\n",
      "var desc: Message indicating whether the load P exceeds the maximum allowable load max_P in the beam\n",
      "python code:\n",
      "`load_check_message = \"Load is too much!\" if P_kip > max_P else \"Load below limit\"`\n",
      "----------------------------------------------------------------------------------------------------\n",
      "calcs L9\n",
      "var name: moment_capacity_status\n",
      "var desc: Status indicating if the moment capacity is sufficient ('OK') or not ('NG') based on comparison of moment capacity and applied moment\n",
      "python code:\n",
      "`moment_capacity_status = 'OK' if moment_capacity_Mcap >= moment_M_kip_ft else 'NG'`\n",
      "----------------------------------------------------------------------------------------------------\n",
      "calcs L10\n",
      "var name: shear_design_status\n",
      "var desc: Shear design status indicating if the shear force is within the shear capacity of the beam section, 'OK' if shear force is less than or equal to shear capacity, otherwise 'NG'\n",
      "python code:\n",
      "`shear_design_status = 'OK' if shear_V_kip <= shear_capacity_Vcap else 'NG'`\n",
      "----------------------------------------------------------------------------------------------------\n",
      "calcs L13\n",
      "var name: design_status\n",
      "var desc: Overall design status indicating 'Fail' if either moment capacity status or shear design status is 'NG', otherwise 'Pass'\n",
      "python code:\n",
      "`design_status = 'Fail' if (moment_capacity_status == 'NG' or shear_design_status == 'NG') else 'Pass'`\n",
      "----------------------------------------------------------------------------------------------------\n"
     ]
    }
   ],
   "source": [
    "for k,v in variable_agent.variable_db.items():\n",
    "    sheet,cell = k\n",
    "    print(sheet,cell)\n",
    "    var_name = v['variable_name']\n",
    "    variable_desr = v['variable_desr']\n",
    "    python_code = v['python_code']\n",
    "    print(f\"var name: {var_name}\")\n",
    "    print(f\"var desc: {variable_desr}\")\n",
    "    print(f\"python code:\\n`{python_code}`\")\n",
    "    print(\"-\"*100)"
   ]
  },
  {
   "cell_type": "code",
   "execution_count": 6,
   "id": "c1a5da98",
   "metadata": {},
   "outputs": [],
   "source": [
    "# layer = variable_agent.layers[0]\n",
    "# _  = await variable_agent.process_layer(layer)"
   ]
  },
  {
   "cell_type": "markdown",
   "id": "e253f0c7",
   "metadata": {},
   "source": [
    "Testing context methods:"
   ]
  },
  {
   "cell_type": "code",
   "execution_count": 7,
   "id": "6a67c8d9",
   "metadata": {},
   "outputs": [
    {
     "name": "stdout",
     "output_type": "stream",
     "text": [
      "Cell D7 in sheet 'calcs' can have a finite set of input values defined as follows:\n",
      "| Value |\n",
      "| alpha |\n",
      "| bravo |\n",
      "| charlie |\n",
      "| delta |\n",
      "\n",
      "The cell tile data for cell D7 in sheet 'calcs' is as follows:\n",
      "|   | A | B | C | D | E | F | G | H | I |\n",
      "|---|---|---|---|---|---|---|---|---|---|\n",
      "| 2 |  |  |  |  |  |  |  |  |  |\n",
      "| 3 |  |  | L [ft] | 20 |  | length of the beam |  |  |  |\n",
      "| 4 |  |  | P [kip] | 15 |  | mid span point load |  |  |  |\n",
      "| 5 |  |  | q [psf] | 30 |  | area load |  |  |  |\n",
      "| 6 |  |  | Trib [ft] | 20 |  | trib width |  |  |  |\n",
      "| 7 |  |  | Section | delta |  |  |  |  |  |\n",
      "| 8 |  |  |  |  |  |  |  |  |  |\n",
      "| 9 |  |  |  |  |  |  |  | Moment capacity | Mcap |\n",
      "| 10 |  |  |  |  |  |  |  | shear capacity | Vcap |\n",
      "| 11 |  |  | This spreadsheet is used to check \n",
      "a simple beam |  |  |  |  |  |  |\n",
      "| 12 |  |  |  |  |  |  |  |  |  |\n"
     ]
    }
   ],
   "source": [
    "context = variable_agent.build_cell_processing_prompt(cell_id=\"D7\",sheetname=\"calcs\")\n",
    "print(context)"
   ]
  },
  {
   "cell_type": "code",
   "execution_count": 8,
   "id": "da5057b4",
   "metadata": {},
   "outputs": [
    {
     "name": "stdout",
     "output_type": "stream",
     "text": [
      "Cell D3 in sheet 'calcs' contains the contast value: 20. \n",
      "The cell tile data for cell D3 in sheet 'calcs' is as follows:\n",
      "|   | A | B | C | D | E | F | G | H | I |\n",
      "|---|---|---|---|---|---|---|---|---|---|\n",
      "| 1 |  |  |  |  |  |  |  |  |  |\n",
      "| 2 |  |  |  |  |  |  |  |  |  |\n",
      "| 3 |  |  | L [ft] | 20 |  | length of the beam |  |  |  |\n",
      "| 4 |  |  | P [kip] | 15 |  | mid span point load |  |  |  |\n",
      "| 5 |  |  | q [psf] | 30 |  | area load |  |  |  |\n",
      "| 6 |  |  | Trib [ft] | 20 |  | trib width |  |  |  |\n",
      "| 7 |  |  | Section | delta |  |  |  |  |  |\n",
      "| 8 |  |  |  |  |  |  |  |  |  |\n"
     ]
    }
   ],
   "source": [
    "context = variable_agent.build_cell_processing_prompt(cell_id=\"D3\",sheetname=\"calcs\")\n",
    "print(context)"
   ]
  },
  {
   "cell_type": "code",
   "execution_count": 9,
   "id": "4550ffc3",
   "metadata": {},
   "outputs": [
    {
     "name": "stdout",
     "output_type": "stream",
     "text": [
      "Cell E19 in sheet 'calcs' contains the formula: =P*D3/4+(D5*D6/1000)*D3^2/8. Dependent cell information is as follows:\n",
      "| Precedent Cell ID | Sheet Name | Variable Name | Variable Description | Python Code |\n",
      "| D3 | calcs | beam_length_ft | length of the beam in feet | beam_length_ft = 20 |\n",
      "| D5 | calcs | area_load_q | area load in psf | area_load_q = 30 |\n",
      "| D6 | calcs | trib_width_ft | tributary width in feet | trib_width_ft = 20 |\n",
      "| D4 | calcs | P_kip | mid span point load in kips | P_kip = 15 |\n",
      "\n",
      "The cell tile data for cell E19 in sheet 'calcs' is as follows:\n",
      "|   | A | B | C | D | E | F | G | H | I | J |\n",
      "|---|---|---|---|---|---|---|---|---|---|---|\n",
      "| 14 |  |  |  |  |  |  |  |  |  |  |\n",
      "| 15 |  |  | Max P | 100 |  |  |  |  |  |  |\n",
      "| 16 |  |  | Check max P | Load below limit |  |  |  |  |  |  |\n",
      "| 17 |  |  |  |  |  |  |  |  |  |  |\n",
      "| 18 |  |  |  |  |  |  |  |  |  |  |\n",
      "| 19 |  |  | Moment | M | 105 | kip.ft |  |  |  |  |\n",
      "| 20 |  |  | Shear | V | 156 | kip.ft |  |  |  |  |\n",
      "| 21 |  |  |  |  |  |  |  |  |  |  |\n",
      "| 22 |  |  |  |  |  |  |  |  |  | Section database |\n",
      "| 23 |  |  |  |  |  |  |  |  |  | sec name |\n",
      "| 24 |  |  |  |  |  |  |  |  |  | alpha |\n"
     ]
    }
   ],
   "source": [
    "context = variable_agent.build_cell_processing_prompt(cell_id=\"E19\",sheetname=\"calcs\")\n",
    "print(context)"
   ]
  },
  {
   "cell_type": "code",
   "execution_count": 10,
   "id": "5bfab03f",
   "metadata": {},
   "outputs": [],
   "source": [
    "programmer = ProgrammerAgent(\n",
    "    spread_sheet_path=path,\n",
    "    system_prompt=None,\n",
    "    openai_model=\"gpt-4.1\",\n",
    "    trace_with_langfuse=True\n",
    ")"
   ]
  },
  {
   "cell_type": "code",
   "execution_count": 11,
   "id": "906fa8ff",
   "metadata": {},
   "outputs": [
    {
     "name": "stdout",
     "output_type": "stream",
     "text": [
      "\n",
      "#beam_length_ft:length of the beam in feet\n",
      "beam_length_ft = 20\n",
      "#P_kip:mid span point load in kips\n",
      "P_kip = 15\n",
      "#area_load_q:area load in psf\n",
      "area_load_q = 30\n",
      "#trib_width_ft:tributary width in feet\n",
      "trib_width_ft = 20\n",
      "#beam_section:The section type of the beam, which can be one of the finite set values: 'alpha', 'bravo', 'charlie', or 'delta'.\n",
      "beam_section = 'delta'  # Example value, can be 'alpha', 'bravo', 'charlie', or 'delta'\n",
      "#alpha:Constant value alpha from section database in sheet calcs\n",
      "alpha = 20\n",
      "#bravo:Constant value named bravo from the section database in the calcs sheet.\n",
      "'bravo'\n",
      "#section_name_charlie:Section name corresponding to the row with alpha, bravo, charlie, delta in the section database\n",
      "'charlie'\n",
      "#section_name_delta:Section name 'delta' from the section database in the calcs sheet\n",
      "'delta'\n",
      "#alpha_M_kip_ft:Moment M in kip.ft for section alpha from the section database\n",
      "alpha_M_kip_ft = 20\n",
      "#bravo_M_kip_ft:Moment M in kip.ft for section named bravo from the section database\n",
      "bravo_M_kip_ft = 50\n",
      "#section_charlie_M_kip_ft:Moment M in kip.ft for section charlie from the section database\n",
      "section_charlie_M_kip_ft = 100\n",
      "#delta_M_kip_ft:Moment M in kip-feet for section delta\n",
      "200\n",
      "#section_alpha_V_kip:Shear force V in kip for section alpha\n",
      "section_alpha_V_kip = 40\n",
      "#V_bravo:Shear force V in kip for section named bravo\n",
      "V_bravo = 60\n",
      "#V_charlie:Shear force V in kip for section charlie from the section database\n",
      "V_charlie = 80\n",
      "#V_delta:Shear force V for section delta in kip\n",
      "V_delta = 150\n",
      "#max_P:Maximum load P in the beam\n",
      "max_P = 100\n",
      "#moment_M_kip_ft:Moment at mid span in kip-feet\n",
      "moment_M_kip_ft = P_kip * beam_length_ft / 4 + (area_load_q * trib_width_ft / 1000) * beam_length_ft ** 2 / 8\n",
      "#shear_V_kip:Shear force V in kips\n",
      "shear_V_kip = P_kip*beam_length_ft/2 + area_load_q*trib_width_ft*beam_length_ft/2/1000\n",
      "#moment_capacity_Mcap:Moment capacity Mcap in kip.ft for the beam section specified in cell D7 in sheet calcs\n",
      "section_moment_capacity_dict = {\n",
      "    'alpha': alpha_M_kip_ft,\n",
      "    'bravo': bravo_M_kip_ft,\n",
      "    'charlie': section_charlie_M_kip_ft,\n",
      "    'delta': delta_M_kip_ft\n",
      "}\n",
      "moment_capacity_Mcap = section_moment_capacity_dict[beam_section]\n",
      "#shear_capacity_Vcap:Shear capacity Vcap in kip for the beam section specified in D7, looked up from the section database range J24:L27 in the calcs sheet.\n",
      "section_data = {\n",
      "    'alpha': {'M_kip_ft': 20, 'V_kip': 40},\n",
      "    'bravo': {'M_kip_ft': 50, 'V_kip': 60},\n",
      "    'charlie': {'M_kip_ft': 100, 'V_kip': 80},\n",
      "    'delta': {'M_kip_ft': 200, 'V_kip': 150}\n",
      "}\n",
      "\n",
      "beam_section = 'delta'  # Example value, can be 'alpha', 'bravo', 'charlie', or 'delta'\n",
      "shear_capacity_Vcap = section_data[beam_section]['V_kip']\n",
      "#load_check_message:Message indicating whether the load P exceeds the maximum allowable load max_P in the beam\n",
      "load_check_message = \"Load is too much!\" if P_kip > max_P else \"Load below limit\"\n",
      "#moment_capacity_status:Status indicating if the moment capacity is sufficient ('OK') or not ('NG') based on comparison of moment capacity and applied moment\n",
      "moment_capacity_status = 'OK' if moment_capacity_Mcap >= moment_M_kip_ft else 'NG'\n",
      "#shear_design_status:Shear design status indicating if the shear force is within the shear capacity of the beam section, 'OK' if shear force is less than or equal to shear capacity, otherwise 'NG'\n",
      "shear_design_status = 'OK' if shear_V_kip <= shear_capacity_Vcap else 'NG'\n",
      "#design_status:Overall design status indicating 'Fail' if either moment capacity status or shear design status is 'NG', otherwise 'Pass'\n",
      "design_status = 'Fail' if (moment_capacity_status == 'NG' or shear_design_status == 'NG') else 'Pass'\n"
     ]
    }
   ],
   "source": [
    "code_context = programmer.build_coding_context()\n",
    "print(code_context)"
   ]
  },
  {
   "cell_type": "code",
   "execution_count": 12,
   "id": "f530c073",
   "metadata": {},
   "outputs": [
    {
     "name": "stderr",
     "output_type": "stream",
     "text": [
      "INFO:root:Created /Users/omid/Desktop/Projects/excel_agent/examples/simple_beam/beam_design\n",
      "INFO:root:Created /Users/omid/Desktop/Projects/excel_agent/examples/simple_beam/beam_design/example.py\n",
      "INFO:root:Created /Users/omid/Desktop/Projects/excel_agent/examples/simple_beam/beam_design/calculations.py\n",
      "INFO:root:Created /Users/omid/Desktop/Projects/excel_agent/examples/simple_beam/beam_design/readme.md\n"
     ]
    }
   ],
   "source": [
    "messages = await programmer.initialize_coding_agent()"
   ]
  },
  {
   "cell_type": "code",
   "execution_count": null,
   "id": "16bccf1d",
   "metadata": {},
   "outputs": [],
   "source": []
  }
 ],
 "metadata": {
  "kernelspec": {
   "display_name": "p11",
   "language": "python",
   "name": "python3"
  },
  "language_info": {
   "codemirror_mode": {
    "name": "ipython",
    "version": 3
   },
   "file_extension": ".py",
   "mimetype": "text/x-python",
   "name": "python",
   "nbconvert_exporter": "python",
   "pygments_lexer": "ipython3",
   "version": "3.11.8"
  }
 },
 "nbformat": 4,
 "nbformat_minor": 5
}
